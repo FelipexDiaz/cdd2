{
  "nbformat": 4,
  "nbformat_minor": 0,
  "metadata": {
    "colab": {
      "provenance": []
    },
    "kernelspec": {
      "name": "python3",
      "display_name": "Python 3"
    },
    "language_info": {
      "name": "python"
    }
  },
  "cells": [
    {
      "cell_type": "markdown",
      "source": [
        "**Descripción de la Actividad Evaluativa**\n",
        "\n",
        "Vamos a crear un sistema de facturación y bodega simplificado, el cual\n",
        "tendrá diferentes opciones:\n",
        "\n",
        "a) Ingresar producto: debe ingresarse el nombre y el precio del producto.\n",
        "Tendrá un sub menú: nuevo producto, guardar archivo o volver.\n",
        "\n",
        "b) Ingresar factura: debe ingresarse el nombre del cliente, luego deberá\n",
        "generar un submenú: ingresar producto, guardar y salir.\n",
        "\n",
        "Los productos se ingresan con nombre y precio. La factura además\n",
        "debe guardar la fecha y hora actual de la venta.\n",
        "\n",
        "c) Ver resumen: en esta opción se debe desplegar:\n",
        "Cantidad de ventas y monto total vendido. Opción de guardar\n",
        "resumen (ingresando nombre de archivo).\n",
        "\n",
        "d) Ver detalle: se debe tener las opciones desplegar: ventas por usuario,\n",
        "ventas por producto, ventas diarias, guardar vista (ingresando el\n",
        "nombre de archivo).\n",
        "\n",
        "e) Borrar datos: elimina los archivos guardados (elegir productos,\n",
        "facturas, todos o volver)\n",
        "\n",
        "f) Salir: termina la ejecución del programa\n",
        "\n",
        "Cabe señalar, que, si los archivos ya existen, entonces deben ser cargados\n",
        "al inicio."
      ],
      "metadata": {
        "id": "ryXZmIXaF8Ju"
      }
    },
    {
      "cell_type": "markdown",
      "source": [
        "Imports"
      ],
      "metadata": {
        "id": "pmx9Q-kiA0Lq"
      }
    },
    {
      "cell_type": "code",
      "source": [
        "import pandas as pd\n",
        "# pandas para trabajar con datos\n",
        "from datetime import datetime\n",
        "# datetime para trabajar con fechas\n",
        "import re\n",
        "# re para expresines regulares"
      ],
      "metadata": {
        "id": "psoQURptAziF"
      },
      "execution_count": 16,
      "outputs": []
    },
    {
      "cell_type": "markdown",
      "source": [
        "Funciones Para el ingreso por teclado"
      ],
      "metadata": {
        "id": "xyzUl8IlBkqT"
      }
    },
    {
      "cell_type": "code",
      "source": [
        "# Aqui se valida que se ingresen numeros\n",
        "def ingresaFloat(mensaje):\n",
        "  while True:\n",
        "    try:\n",
        "      return float(input(mensaje))\n",
        "    except ValueError:\n",
        "        print(\"Ingresa un Numero Valido !\")\n",
        "\n",
        "# Aqui se valida que se ingresen numeros\n",
        "def ingresaEntero(mensaje):\n",
        "  while True:\n",
        "    try:\n",
        "      return int(input(mensaje))\n",
        "    except ValueError:\n",
        "        print(\"Ingresa un Numero Valido !\")\n",
        "\n",
        "\n",
        "# Aqui se pone una expresion regular para validar el texto\n",
        "def ingresaTexto(mensaje):\n",
        "  patron = r'^[a-zA-Z\\s]+$'\n",
        "  while True:\n",
        "    try:\n",
        "      texto = input(mensaje)\n",
        "      if re.match(patron, texto):\n",
        "        return texto\n",
        "      else:\n",
        "        raise ValueError\n",
        "    except ValueError:\n",
        "      print(\"Ingresa un Texto Valido!\")\n",
        "\n",
        "# Aqui se pone una expresion regular para validar el texto con numeros\n",
        "def ingresaTexto_con_Numeros(mensaje):\n",
        "  patron = r'^[a-zA-Z0-9\\s]+$'\n",
        "  while True:\n",
        "    try:\n",
        "      texto = input(mensaje)\n",
        "      if re.match(patron, texto):\n",
        "        return texto\n",
        "      else:\n",
        "        raise ValueError\n",
        "    except ValueError:\n",
        "      print(\"Ingresa un Texto Valido!\")"
      ],
      "metadata": {
        "id": "icpJl3GtBkbp"
      },
      "execution_count": 17,
      "outputs": []
    },
    {
      "cell_type": "markdown",
      "source": [
        "Variables para los nombres de archivos"
      ],
      "metadata": {
        "id": "Sn3s9U6RA-I1"
      }
    },
    {
      "cell_type": "code",
      "source": [
        "# Aqui se definen los nombres de los archivos que se usaran mas adelante\n",
        "archivo_productos='productos.csv'\n",
        "archivo_facturas='facturas.csv'\n",
        "archivo_resumen='resumen.csv'\n",
        "archivo_detalle='detalle.csv'"
      ],
      "metadata": {
        "id": "cgcrMtnoA92z"
      },
      "execution_count": 18,
      "outputs": []
    },
    {
      "cell_type": "markdown",
      "source": [
        "Lectura o creacion de archivos"
      ],
      "metadata": {
        "id": "uvhN8N3dBKW2"
      }
    },
    {
      "cell_type": "code",
      "source": [
        "# Aqui se leen los archivos o se crean si no existen\n",
        "try:\n",
        "      df_productos= pd.read_csv(archivo_productos)\n",
        "except FileNotFoundError:\n",
        "      df_productos = pd.DataFrame(columns=['Nombre', 'Precio'])\n",
        "\n",
        "try:\n",
        "      df_facturas = pd.read_csv(archivo_facturas)\n",
        "except FileNotFoundError:\n",
        "      df_facturas = pd.DataFrame(columns=['Cliente', 'Fecha', 'Productos'])\n"
      ],
      "metadata": {
        "id": "2OtxHzFgBKLD"
      },
      "execution_count": 19,
      "outputs": []
    },
    {
      "cell_type": "markdown",
      "source": [
        "Funciones"
      ],
      "metadata": {
        "id": "mkKEU8X9BU6n"
      }
    },
    {
      "cell_type": "code",
      "source": [
        "# Aqui se ingresan los productos al archivo csv\n",
        "def ingresar_producto():\n",
        "  global df_productos\n",
        "  print(f\"\\nIngreso de Producto:\")\n",
        "  nombre = ingresaTexto_con_Numeros(\"Ingrese el nombre del producto:\")\n",
        "  precio = ingresaFloat(\"Ingrese el precio del producto:\")\n",
        "  nuevo_producto = pd.DataFrame({'Nombre': [nombre], 'Precio': [precio]})\n",
        "  df_productos = pd.concat([df_productos, nuevo_producto], ignore_index=True)\n",
        "  print('Producto ingresado correctamente.')\n",
        "\n",
        "# Aqui se ingresan las facturas al archivo csv\n",
        "def ingresar_factura():\n",
        "  global df_facturas\n",
        "  print(f\"\\nIngreso de Factura:\")\n",
        "  cliente = input(\"Ingrese el nombre del cliente: \")\n",
        "  fecha = datetime.now() .strftime('%Y-%m-%d %H:%M:%S')\n",
        "  productos_factura = []\n",
        "  while True:\n",
        "    nombre_producto = input(\"Ingrese el nombre del producto (o 'q' para salir):\")\n",
        "    if nombre_producto.lower() == \"q\":\n",
        "      break\n",
        "    productos_factura.append(nombre_producto)\n",
        "  nueva_factura = pd.DataFrame({'Cliente': [cliente], 'Fecha': [fecha], 'Productos': [productos_factura]})\n",
        "  df_facturas = pd.concat([df_facturas, nueva_factura], ignore_index=True)\n",
        "  print('Factura ingresada correctamente.')\n",
        "\n",
        "# Aqui se lee el archivo facturas y se cuentan las ventas y se suman los montos\n",
        "def ver_resumen():\n",
        "  global df_facturas, df_productos\n",
        "  cantidad_ventas = len(df_facturas)\n",
        "  monto_total_vendido = df_facturas.apply(lambda row: sum(df_productos[df_productos['Nombre'].isin(row['Productos'])]['Precio']), axis=1).sum()\n",
        "  print(f\"\\nResunen:\")\n",
        "  print(f\"Cantidad de ventas: {cantidad_ventas}\")\n",
        "  print(f\"Monto total vendido: {monto_total_vendido}\")\n",
        "\n",
        "# Aqui se guarda el resumen\n",
        "  opcion_guardar = input('¿Desea guardar el resumen? (s/n): ')\n",
        "  if opcion_guardar.lower() == 's':\n",
        "    archivo_guardar = ingresaTexto_con_Numeros('Ingrese el nombre del archivo para guardar el resumen: ')\n",
        "    df_resumen = pd.DataFrame({'Cantidad_Ventas': [cantidad_ventas], 'Monto_Total_Vendido': [monto_total_vendido]})\n",
        "    df_resumen.to_csv(archivo_guardar + '.csv', index=False)\n",
        "    print(f\"Resumen guardado en {archivo_guardar}.csv\")\n",
        "\n",
        "# Aqui se lee el archivo facturas y se cuentan las ventas por Cliente y Producto\n",
        "def ver_detalle():\n",
        "    global df_facturas\n",
        "    print(\"\\nDetalle:\")\n",
        "    print(\"1. Ventas por usuario\")\n",
        "    print(\"2. Ventas por producto\")\n",
        "    print(\"3. Ventas diaria:\")\n",
        "    print(\"4. Volver\")\n",
        "\n",
        "    opcion_detalle = ingresaEntero(\"Seleccione una opción: \")\n",
        "\n",
        "    if opcion_detalle == 1:\n",
        "      ventas_usuario = df_facturas.groupby('Cliente').size().reset_index(name='Cantidad_Ventas')\n",
        "      print(\"\\nVentas Por Usuario:\")\n",
        "      print(ventas_usuario)\n",
        "    elif opcion_detalle == 2:\n",
        "      ventas_producto = df_facturas.explode('Productos')\n",
        "      ventas_producto = ventas_producto.groupby('Productos').size().reset_index(name='Cantidad_Ventas')\n",
        "      print(\"\\nVentas Por Producto:\")\n",
        "      print(ventas_producto)\n",
        "    elif opcion_detalle == 3:\n",
        "      ventas_diarias = df_facturas.groupby(df_facturas['Fecha'].str.split(' ').str[0]).size().reset_index(name='Cantidad_Ventas')\n",
        "      print(\"\\nVentas Diarias:\")\n",
        "      print(ventas_diarias)\n",
        "    elif opcion_detalle == 4:\n",
        "      return\n",
        "\n",
        "# Aqui se guarda el detalle\n",
        "    opcion_guardar = input(\"¿Desea guardar la vista? (s/n): \")\n",
        "    if opcion_guardar.lower() == 's':\n",
        "      archivo_guardar = ingresaTexto_con_Numeros(\"Ingrese el nombre del archivo para guardar la vista: \")\n",
        "    if opcion_detalle == \"1\":\n",
        "      ventas_usuario.to_csv(archivo_guardar + '.csv', index=False)\n",
        "    elif opcion_detalle == '2':\n",
        "      ventas_producto.to_csv(archivo_guardar + '.csv', index=False)\n",
        "    elif opcion_detalle == '3':\n",
        "      ventas_diarias.to_csv(archivo_guardar + '.csv', index=False)\n",
        "      print(f\"vista guardada en {archivo_guardar}.csv\")\n",
        "\n",
        "# Aqui se borran los datos\n",
        "def borrar_datos():\n",
        "  global df_productos, df_facturas\n",
        "  print(\"\\nBorrar Datos:\")\n",
        "  print(\"1. Borrar Productos\")\n",
        "  print(\"2. Borrar Facturas\")\n",
        "  print(\"3. Borrar Todos los Datos:\")\n",
        "  print(\"4. Volver\")\n",
        "\n",
        "  opcion_borrar = ingresaEntero(\"Seleccione una opcion: \")\n",
        "  if opcion_borrar== 1:\n",
        "    df_productos = pd.DataFrame(columns=['Nombre','Precio'])\n",
        "    df_productos.to_csv(archivo_productos, index=False)\n",
        "    print('Datos de Productos borrados.')\n",
        "  elif opcion_borrar== 2:\n",
        "    df_facturas = pd.DataFrame(columns=['Cliente','Fecha','Productos'])\n",
        "    df_facturas.to_csv(archivo_facturas, index=False)\n",
        "    print('Datos de Facturas borrados.')\n",
        "  elif opcion_borrar== 3:\n",
        "    df_productos = pd.DataFrame(columns=['Nombre','Precio'])\n",
        "    df_facturas = pd.DataFrame(columns=['Cliente','Fecha','Productos'])\n",
        "    print('Todos los Datos de han sido borrados.')\n",
        "  elif opcion_borrar== 4:\n",
        "    return\n",
        "\n",
        "# Aqui se guardan los datos\n",
        "def guardar_datos():\n",
        "  global df_productos, df_facturas\n",
        "  df_productos.to_csv(archivo_productos, index=False)\n",
        "  df_facturas.to_csv(archivo_facturas, index=False)\n",
        "\n",
        "def salir():\n",
        "  print(\"\\nSaliendo..\")\n"
      ],
      "metadata": {
        "id": "KwzalzWFBUoT"
      },
      "execution_count": 24,
      "outputs": []
    },
    {
      "cell_type": "markdown",
      "source": [
        "Programa Principal"
      ],
      "metadata": {
        "id": "hm_6hx6yBbQC"
      }
    },
    {
      "cell_type": "code",
      "execution_count": null,
      "metadata": {
        "id": "x7NQQnHpkjXo"
      },
      "outputs": [],
      "source": [
        "\n",
        "def main():\n",
        "    global df_productos, df_facturas\n",
        "    while True:\n",
        "      print(\"\\nSistena de facturación y bodega\")\n",
        "      print(\"\\nMenú Principal:\")\n",
        "      print(\"1. Ingresar producto\")\n",
        "      print(\"2. Ingresar factura\")\n",
        "      print(\"3. Ver resumen\")\n",
        "      print(\"4. Ver detalle\")\n",
        "      print(\"5. Borrar datos\")\n",
        "      print(\"6. Guardar datos\")\n",
        "      print(\"7. Salir\")\n",
        "      opcion = ingresaEntero(\"\\nSeleccione una opción: \")\n",
        "\n",
        "      if opcion == 1:\n",
        "        ingresar_producto()\n",
        "      elif opcion == 2:\n",
        "        ingresar_factura()\n",
        "      elif opcion == 3:\n",
        "        ver_resumen()\n",
        "      elif opcion == 4:\n",
        "        ver_detalle()\n",
        "      elif opcion == 5:\n",
        "        borrar_datos()\n",
        "      elif opcion == 6:\n",
        "        guardar_datos()\n",
        "      elif opcion == 7:\n",
        "        salir()\n",
        "        break\n",
        "      else:\n",
        "        print(\"Opción no válida. Inténtelo de nuevo.\")\n",
        "\n",
        "if __name__ == \"__main__\":\n",
        "    main()"
      ]
    },
    {
      "cell_type": "markdown",
      "source": [
        "GIT"
      ],
      "metadata": {
        "id": "fOCDKBipLs7c"
      }
    },
    {
      "cell_type": "markdown",
      "source": [
        "https://github.com/FelipexDiaz/cdd2/"
      ],
      "metadata": {
        "id": "TUdIpH6ELF9v"
      }
    },
    {
      "cell_type": "markdown",
      "source": [
        "Felipe Diaz"
      ],
      "metadata": {
        "id": "wKCQK0oGLGn9"
      }
    }
  ]
}